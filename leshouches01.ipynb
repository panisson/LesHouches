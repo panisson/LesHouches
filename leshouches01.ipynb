{
 "metadata": {
  "name": "",
  "signature": "sha256:692ae8463ef4be54bd932a9f58549852f307b61ca0846ed6d3fe869ead117bb2"
 },
 "nbformat": 3,
 "nbformat_minor": 0,
 "worksheets": [
  {
   "cells": [
    {
     "cell_type": "markdown",
     "metadata": {
      "slideshow": {
       "slide_type": "slide"
      }
     },
     "source": [
      "###Complex Networks Thematic School, Les Houches, April 7-18, 2014\n",
      "\n",
      "---\n",
      "\n",
      "# Introduction to Python Tools\n",
      "\n",
      "##Dr. Andr\u00e9 Panisson\n",
      "\n",
      "---"
     ]
    },
    {
     "cell_type": "code",
     "collapsed": false,
     "input": [
      "%pylab inline"
     ],
     "language": "python",
     "metadata": {},
     "outputs": []
    },
    {
     "cell_type": "markdown",
     "metadata": {
      "slideshow": {
       "slide_type": "slide"
      }
     },
     "source": [
      "## Why Python?\n",
      "Python is the programming language of choice for many scientists to a large degree because it offers a great deal of power to analyze and model scientific data with relatively little overhead in terms of learning, installation or development time. It is a language you can pick up in a weekend, and use for the rest of one's life.\n",
      "\n",
      "The [Python Tutorial](http://docs.python.org/2/tutorial/) is a great place to start getting a feel for the language. In the last year or so, the [IPython Project](http://ipython.org) has put together the notebook interface. A large number of people have released very good IPython Notebooks, including:\n",
      "\n",
      "* Rob Johansson's [excellent notebooks](http://jrjohansson.github.io/), including [Scientific Computing with Python](https://github.com/jrjohansson/scientific-python-lectures) and [Computational Quantum Physics with QuTiP](https://github.com/jrjohansson/qutip-lectures) lectures;\n",
      "* [XKCD style graphs in matplotlib](http://nbviewer.ipython.org/url/jakevdp.github.com/downloads/notebooks/XKCD_plots.ipynb);\n",
      "* [A collection of Notebooks for using IPython effectively](https://github.com/ipython/ipython/tree/master/examples/notebooks#a-collection-of-notebooks-for-using-ipython-effectively)\n",
      "* [A gallery of interesting IPython Notebooks](https://github.com/ipython/ipython/wiki/A-gallery-of-interesting-IPython-Notebooks)\n",
      "\n",
      "IPython notebooks an easy way both to get important work done in my everyday job, as well as to communicate your work, how you have done it, and why it matters to your coworkers."
     ]
    },
    {
     "cell_type": "markdown",
     "metadata": {
      "slideshow": {
       "slide_type": "slide"
      }
     },
     "source": [
      "## What You Need to Install\n",
      "\n",
      "These notes assume you have a Python distribution that includes:\n",
      "\n",
      "* [Python](http://www.python.org) version 2.7;\n",
      "* [Numpy](http://www.numpy.org), the core numerical extensions for linear algebra and multidimensional arrays;\n",
      "* [Scipy](http://www.scipy.org), additional libraries for scientific programming;\n",
      "* [Matplotlib](http://matplotlib.sf.net), excellent plotting and graphing libraries;\n",
      "* [IPython](http://ipython.org), with the additional libraries required for the notebook interface.\n",
      "\n",
      "A good, easy to install option that supports Mac, Windows, and Linux, is the multiplatform Python package called [Anaconda](http://continuum.io/downloads)."
     ]
    },
    {
     "cell_type": "markdown",
     "metadata": {
      "slideshow": {
       "slide_type": "slide"
      }
     },
     "source": [
      "# I. Python Overview\n",
      "This is a quick introduction to Python. There are lots of other places to learn the language more thoroughly. If you want a little more depth, [Python Tutorial](http://docs.python.org/2/tutorial/) is a great place to start, as is Zed Shaw's [Learn Python the Hard Way](http://learnpythonthehardway.org/book/).\n",
      "\n",
      "The notes that follow make use of the IPython notebooks. There's a good introduction to notebooks [in the IPython notebook documentation](http://ipython.org/notebook.html) that even has a [nice video](http://www.youtube.com/watch?v=H6dLGQw9yFQ#!) on how to use the notebooks.\n",
      "\n",
      "Briefly, notebooks have code cells (that are generally followed by result cells) and text cells. The text cells are the stuff that you're reading now. The code cells start with \"In []:\" with some number generally in the brackets. If you put your cursor in the code cell and hit Shift-Enter, the code will run in the Python interpreter and the result will print out in the output cell. You can then change things around and see whether you understand what's going on. If you need to know more, see the [IPython notebook documentation](http://ipython.org/notebook.html) or the [IPython tutorial](http://ipython.org/ipython-doc/dev/interactive/tutorial.html)."
     ]
    },
    {
     "cell_type": "markdown",
     "metadata": {},
     "source": [
      "IPython Notebook also supports the display of mathematical expressions typeset in LaTeX:\n",
      "\n",
      "$$F(k) = \\int_{-\\infty}^{\\infty} f(x) e^{2\\pi i k} dx$$"
     ]
    },
    {
     "cell_type": "markdown",
     "metadata": {
      "slideshow": {
       "slide_type": "slide"
      }
     },
     "source": [
      "## Running cells\n",
      "\n",
      "We will start using Python as a simple calculator.\n",
      "\n",
      "Run a code cell using Shift-Enter or pressing the \"Play\" button in the toolbar above:"
     ]
    },
    {
     "cell_type": "code",
     "collapsed": false,
     "input": [
      "print(1+2+3)"
     ],
     "language": "python",
     "metadata": {},
     "outputs": []
    },
    {
     "cell_type": "markdown",
     "metadata": {},
     "source": [
      "There are differences when using integers and floats as operators:"
     ]
    },
    {
     "cell_type": "code",
     "collapsed": false,
     "input": [
      "5/2"
     ],
     "language": "python",
     "metadata": {},
     "outputs": []
    },
    {
     "cell_type": "code",
     "collapsed": false,
     "input": [
      "5/2."
     ],
     "language": "python",
     "metadata": {},
     "outputs": []
    },
    {
     "cell_type": "code",
     "collapsed": false,
     "input": [
      "7/float(3)"
     ],
     "language": "python",
     "metadata": {},
     "outputs": []
    },
    {
     "cell_type": "markdown",
     "metadata": {},
     "source": [
      "Python has a huge number of libraries included with the distribution. To keep things simple, most of these variables and functions are not accessible from a normal Python interactive session. Instead, you have to import the name.\n",
      "\n",
      "For example, there is a **math** module containing many useful functions. To access, say, the square root function, you can either first\n",
      "\n",
      "    from math import sqrt\n",
      "\n",
      "and then\n",
      "\n",
      "    sqrt(81)"
     ]
    },
    {
     "cell_type": "code",
     "collapsed": false,
     "input": [
      "from math import sqrt\n",
      "sqrt(81)"
     ],
     "language": "python",
     "metadata": {},
     "outputs": []
    },
    {
     "cell_type": "markdown",
     "metadata": {},
     "source": [
      "If you just import the **math** library itself, you can access the functions inside the **math** package through the **dot** syntax:"
     ]
    },
    {
     "cell_type": "code",
     "collapsed": false,
     "input": [
      "import math\n",
      "math.sqrt(81)"
     ],
     "language": "python",
     "metadata": {},
     "outputs": []
    },
    {
     "cell_type": "markdown",
     "metadata": {},
     "source": [
      "You can define variables and assign a value to them using the equals (=) sign:"
     ]
    },
    {
     "cell_type": "code",
     "collapsed": false,
     "input": [
      "width = 20\n",
      "length = 30\n",
      "area = length * width\n",
      "area"
     ],
     "language": "python",
     "metadata": {},
     "outputs": []
    },
    {
     "cell_type": "markdown",
     "metadata": {},
     "source": [
      "If you try to access a variable that you haven't yet defined, you get an error:"
     ]
    },
    {
     "cell_type": "code",
     "collapsed": false,
     "input": [
      "volume"
     ],
     "language": "python",
     "metadata": {},
     "outputs": []
    },
    {
     "cell_type": "markdown",
     "metadata": {},
     "source": [
      "and you need to define it:"
     ]
    },
    {
     "cell_type": "code",
     "collapsed": false,
     "input": [
      "depth = 10\n",
      "volume = area * depth\n",
      "volume"
     ],
     "language": "python",
     "metadata": {},
     "outputs": []
    },
    {
     "cell_type": "markdown",
     "metadata": {},
     "source": [
      "You can name a variable *almost* anything you want. It needs to start with an alphabetical character or \"\\_\", can contain alphanumeric charcters plus underscores (\"\\_\"). Certain words, however, are reserved for the language:\n",
      "\n",
      "    and, as, assert, break, class, continue, def, del, elif, else, except, \n",
      "    exec, finally, for, from, global, if, import, in, is, lambda, not, or,\n",
      "    pass, print, raise, return, try, while, with, yield\n",
      "\n",
      "Trying to define a variable using one of these will result in a syntax error:"
     ]
    },
    {
     "cell_type": "code",
     "collapsed": false,
     "input": [
      "return = 0"
     ],
     "language": "python",
     "metadata": {},
     "outputs": []
    },
    {
     "cell_type": "markdown",
     "metadata": {},
     "source": [
      "The [Python Tutorial](http://docs.python.org/2/tutorial/introduction.html#using-python-as-a-calculator) has more on using Python as an interactive shell. The [IPython tutorial](http://ipython.org/ipython-doc/dev/interactive/tutorial.html) makes a nice complement to this, since IPython has a much more sophisticated iteractive shell."
     ]
    },
    {
     "cell_type": "markdown",
     "metadata": {},
     "source": [
      "## Strings\n",
      "Strings are lists of printable characters, and can be defined using either single quotes"
     ]
    },
    {
     "cell_type": "code",
     "collapsed": false,
     "input": [
      "'Hello, World!'"
     ],
     "language": "python",
     "metadata": {},
     "outputs": []
    },
    {
     "cell_type": "markdown",
     "metadata": {},
     "source": [
      "or double quotes"
     ]
    },
    {
     "cell_type": "code",
     "collapsed": false,
     "input": [
      "\"Hello, World!\""
     ],
     "language": "python",
     "metadata": {},
     "outputs": []
    },
    {
     "cell_type": "markdown",
     "metadata": {},
     "source": [
      "But not both at the same time, unless you want one of the symbols to be part of the string."
     ]
    },
    {
     "cell_type": "code",
     "collapsed": false,
     "input": [
      "\"He's a Rebel\""
     ],
     "language": "python",
     "metadata": {},
     "outputs": []
    },
    {
     "cell_type": "code",
     "collapsed": false,
     "input": [
      "'She asked, \"How are you today?\"'"
     ],
     "language": "python",
     "metadata": {},
     "outputs": []
    },
    {
     "cell_type": "markdown",
     "metadata": {},
     "source": [
      "Just like the other two data objects we're familiar with (ints and floats), you can assign a string to a variable"
     ]
    },
    {
     "cell_type": "code",
     "collapsed": false,
     "input": [
      "greeting = \"Hello, World!\""
     ],
     "language": "python",
     "metadata": {},
     "outputs": []
    },
    {
     "cell_type": "markdown",
     "metadata": {},
     "source": [
      "The **print** statement is often used for printing character strings:"
     ]
    },
    {
     "cell_type": "code",
     "collapsed": false,
     "input": [
      "print greeting"
     ],
     "language": "python",
     "metadata": {},
     "outputs": []
    },
    {
     "cell_type": "markdown",
     "metadata": {},
     "source": [
      "But it can also print data types other than strings:"
     ]
    },
    {
     "cell_type": "code",
     "collapsed": false,
     "input": [
      "print \"The area is\", area"
     ],
     "language": "python",
     "metadata": {},
     "outputs": []
    },
    {
     "cell_type": "markdown",
     "metadata": {},
     "source": [
      "In the above snipped, the number 600 (stored in the variable \"area\") is converted into a string before being printed out.\n",
      "\n",
      "You can use the + operator to concatenate strings together:"
     ]
    },
    {
     "cell_type": "code",
     "collapsed": false,
     "input": [
      "statement = \"Hello, \" + \"World!\"\n",
      "print statement"
     ],
     "language": "python",
     "metadata": {},
     "outputs": []
    },
    {
     "cell_type": "markdown",
     "metadata": {},
     "source": [
      "## Data Structures\n",
      "\n",
      "In the standard Python language, there are some useful structures: **lists, tuples, dictionaries and sets**.\n",
      "\n",
      "### Lists\n",
      "\n",
      "Lists are used to keep a group of similar items together. You can access members of the list using the **index** of that item:"
     ]
    },
    {
     "cell_type": "code",
     "collapsed": false,
     "input": [
      "days_of_the_week = [\"Sunday\", \"Monday\", \"Tuesday\", \"Wednesday\", \"Thursday\", \"Friday\", \"Saturday\"]\n",
      "days_of_the_week[2]"
     ],
     "language": "python",
     "metadata": {},
     "outputs": []
    },
    {
     "cell_type": "markdown",
     "metadata": {},
     "source": [
      "Python lists, like C, but unlike Fortran, use 0 as the index of the first element of a list. Thus, in this example, the 0 element is \"Sunday\", 1 is \"Monday\", and so on. If you need to access the *n*th element from the end of the list, you can use a negative index. For example, the -1 element of a list is the last element:"
     ]
    },
    {
     "cell_type": "code",
     "collapsed": false,
     "input": [
      "days_of_the_week[-1]"
     ],
     "language": "python",
     "metadata": {},
     "outputs": []
    },
    {
     "cell_type": "markdown",
     "metadata": {},
     "source": [
      "You can add additional items to the list using the .append() command:"
     ]
    },
    {
     "cell_type": "code",
     "collapsed": false,
     "input": [
      "languages = [\"Fortran\", \"C\", \"C++\"]\n",
      "languages.append(\"Python\")\n",
      "print languages"
     ],
     "language": "python",
     "metadata": {},
     "outputs": []
    },
    {
     "cell_type": "markdown",
     "metadata": {},
     "source": [
      "The **range()** command is a convenient way to make sequential lists of numbers:"
     ]
    },
    {
     "cell_type": "code",
     "collapsed": false,
     "input": [
      "range(10)"
     ],
     "language": "python",
     "metadata": {},
     "outputs": []
    },
    {
     "cell_type": "markdown",
     "metadata": {},
     "source": [
      "Note that range(n) starts at 0 and gives the sequential list of integers less than n. If you want to start at a different number, use range(start,stop)"
     ]
    },
    {
     "cell_type": "code",
     "collapsed": false,
     "input": [
      "range(2, 8)"
     ],
     "language": "python",
     "metadata": {},
     "outputs": []
    },
    {
     "cell_type": "markdown",
     "metadata": {},
     "source": [
      "The lists created above with range have a *step* of 1 between elements. You can also give a fixed step size via a third parameter:"
     ]
    },
    {
     "cell_type": "code",
     "collapsed": false,
     "input": [
      "evens = range(0, 20, 2)\n",
      "evens"
     ],
     "language": "python",
     "metadata": {},
     "outputs": []
    },
    {
     "cell_type": "markdown",
     "metadata": {},
     "source": [
      "You can find out how long a list is using the **len()** command:"
     ]
    },
    {
     "cell_type": "code",
     "collapsed": false,
     "input": [
      "len(evens)"
     ],
     "language": "python",
     "metadata": {},
     "outputs": []
    },
    {
     "cell_type": "markdown",
     "metadata": {},
     "source": [
      "### Tuples\n",
      "\n",
      "A **tuple** is a sequence object like a list. It's constructed by grouping a sequence of objects together with commas, either without brackets, or with parentheses:"
     ]
    },
    {
     "cell_type": "code",
     "collapsed": false,
     "input": [
      "t = (1, 2, 'hi', 9.0)\n",
      "t"
     ],
     "language": "python",
     "metadata": {},
     "outputs": []
    },
    {
     "cell_type": "markdown",
     "metadata": {},
     "source": [
      "You can access elements in tuples are like lists, using indices:"
     ]
    },
    {
     "cell_type": "code",
     "collapsed": false,
     "input": [
      "t[1]"
     ],
     "language": "python",
     "metadata": {},
     "outputs": []
    },
    {
     "cell_type": "markdown",
     "metadata": {},
     "source": [
      "However, tuples are *immutable*, you can't append to them or change the elements of them:"
     ]
    },
    {
     "cell_type": "code",
     "collapsed": false,
     "input": [
      "t.append(7)"
     ],
     "language": "python",
     "metadata": {},
     "outputs": []
    },
    {
     "cell_type": "code",
     "collapsed": false,
     "input": [
      "t[1] = 77"
     ],
     "language": "python",
     "metadata": {},
     "outputs": []
    },
    {
     "cell_type": "markdown",
     "metadata": {},
     "source": [
      "Tuple assignment is also a convenient way to swap variables:"
     ]
    },
    {
     "cell_type": "code",
     "collapsed": false,
     "input": [
      "x, y = 1, 2\n",
      "y, x = x, y\n",
      "x, y"
     ],
     "language": "python",
     "metadata": {},
     "outputs": []
    },
    {
     "cell_type": "markdown",
     "metadata": {},
     "source": [
      "### Dictionaries\n",
      "\n",
      "**Dictionaries** are an object called \"mappings\" or \"associative arrays\" in other languages.\n",
      "The index in a dictionary is called the *key*, and the corresponding dictionary entry is the *value*. A dictionary can use (almost) anything as the key. Whereas lists are formed with square brackets [], dictionaries use curly brackets {}:"
     ]
    },
    {
     "cell_type": "code",
     "collapsed": false,
     "input": [
      "ages = {\"Rick\": 46, \"Bob\": 86, \"Fred\": 21}\n",
      "print \"Rick's age is\", ages[\"Rick\"]"
     ],
     "language": "python",
     "metadata": {},
     "outputs": []
    },
    {
     "cell_type": "markdown",
     "metadata": {},
     "source": [
      "There's also a convenient way to create dictionaries without having to quote the keys."
     ]
    },
    {
     "cell_type": "code",
     "collapsed": false,
     "input": [
      "dict(Rick=46, Bob=86, Fred=20)"
     ],
     "language": "python",
     "metadata": {},
     "outputs": []
    },
    {
     "cell_type": "markdown",
     "metadata": {},
     "source": [
      "The **len()** command works also for dictionaries:"
     ]
    },
    {
     "cell_type": "code",
     "collapsed": false,
     "input": [
      "len(ages)"
     ],
     "language": "python",
     "metadata": {},
     "outputs": []
    },
    {
     "cell_type": "markdown",
     "metadata": {},
     "source": [
      "## Iteration, Indentation, and Blocks\n",
      "One of the most useful things you can do with lists is to *iterate* through them, i.e. to go through each element one at a time. To do this in Python, we use the **for** statement:"
     ]
    },
    {
     "cell_type": "code",
     "collapsed": false,
     "input": [
      "for day in days_of_the_week:\n",
      "    print day"
     ],
     "language": "python",
     "metadata": {},
     "outputs": []
    },
    {
     "cell_type": "markdown",
     "metadata": {},
     "source": [
      "This code snippet goes through each element of the list called **days_of_the_week** and assigns it to the variable **day**. It then executes everything in the indented block (in this case only one line of code, the print statement) using those variable assignments. When the program has gone through every element of the list, it exists the block.\n",
      "\n",
      "(Almost) every programming language defines blocks of code in some way. In Fortran, one uses END statements (ENDDO, ENDIF, etc.) to define code blocks. In C, C++, and Perl, one uses curly braces {} to define these blocks.\n",
      "\n",
      "Python uses a colon (\":\"), followed by indentation level to define code blocks. Everything at a higher level of indentation is taken to be in the same block. In the above example the block was only a single line, but we could have had longer blocks as well:"
     ]
    },
    {
     "cell_type": "code",
     "collapsed": false,
     "input": [
      "for day in days_of_the_week:\n",
      "    statement = \"Today is \" + day\n",
      "    print statement"
     ],
     "language": "python",
     "metadata": {},
     "outputs": []
    },
    {
     "cell_type": "markdown",
     "metadata": {},
     "source": [
      "The **range()** command is particularly useful with the **for** statement to execute loops of a specified length:"
     ]
    },
    {
     "cell_type": "code",
     "collapsed": false,
     "input": [
      "for i in range(20):\n",
      "    print \"The square of \",i,\" is \",i*i"
     ],
     "language": "python",
     "metadata": {},
     "outputs": []
    },
    {
     "cell_type": "markdown",
     "metadata": {},
     "source": [
      "## Slicing\n",
      "Lists and strings have something in common that you might not suspect: they can both be treated as sequences. You already know that you can iterate through the elements of a list. You can also iterate through the letters in a string:"
     ]
    },
    {
     "cell_type": "code",
     "collapsed": false,
     "input": [
      "for letter in \"Sunday\":\n",
      "    print letter"
     ],
     "language": "python",
     "metadata": {},
     "outputs": []
    },
    {
     "cell_type": "markdown",
     "metadata": {},
     "source": [
      "This is only occasionally useful. Slightly more useful is the *slicing* operation, which you can also use on any sequence. We already know that we can use *indexing* to get the first element of a list:"
     ]
    },
    {
     "cell_type": "code",
     "collapsed": false,
     "input": [
      "days_of_the_week[0]"
     ],
     "language": "python",
     "metadata": {},
     "outputs": []
    },
    {
     "cell_type": "markdown",
     "metadata": {},
     "source": [
      "If we want the list containing the first two elements of a list, we can do this via slicing:"
     ]
    },
    {
     "cell_type": "code",
     "collapsed": false,
     "input": [
      "days_of_the_week[0:2]"
     ],
     "language": "python",
     "metadata": {},
     "outputs": []
    },
    {
     "cell_type": "markdown",
     "metadata": {},
     "source": [
      "or simply"
     ]
    },
    {
     "cell_type": "code",
     "collapsed": false,
     "input": [
      "days_of_the_week[:2]"
     ],
     "language": "python",
     "metadata": {},
     "outputs": []
    },
    {
     "cell_type": "markdown",
     "metadata": {},
     "source": [
      "If we want the last items of the list, we can do this with negative slicing:"
     ]
    },
    {
     "cell_type": "code",
     "collapsed": false,
     "input": [
      "days_of_the_week[-2:]"
     ],
     "language": "python",
     "metadata": {},
     "outputs": []
    },
    {
     "cell_type": "markdown",
     "metadata": {},
     "source": [
      "Since strings are sequences, you can use slicing to extract substrings:"
     ]
    },
    {
     "cell_type": "code",
     "collapsed": false,
     "input": [
      "day = \"Sunday\"\n",
      "abbreviation = day[:3]\n",
      "print abbreviation"
     ],
     "language": "python",
     "metadata": {},
     "outputs": []
    },
    {
     "cell_type": "markdown",
     "metadata": {},
     "source": [
      "The third element of the slice (which is optional) specifies a step length (just like a third argument to the **range()** function specifies the step):"
     ]
    },
    {
     "cell_type": "code",
     "collapsed": false,
     "input": [
      "numbers = range(0,40)\n",
      "evens = numbers[2::2]\n",
      "evens"
     ],
     "language": "python",
     "metadata": {},
     "outputs": []
    },
    {
     "cell_type": "markdown",
     "metadata": {},
     "source": [
      "## Booleans and Truth Testing\n",
      "We have now learned a few data types. We have integers and floating point numbers, strings, and lists to contain them. We have also learned about lists, a container that can hold any data type. We have learned to print things out, and to iterate over items in lists. We will now learn about **boolean** variables that can be either True or False.\n",
      "\n",
      "We invariably need some concept of *conditions* in programming to control branching behavior, to allow a program to react differently to different situations. If it's Monday, I'll go to work, but if it's Sunday, I'll sleep in. To do this in Python, we use a combination of **boolean** variables, which evaluate to either True or False, and **if** statements, that control branching based on boolean values."
     ]
    },
    {
     "cell_type": "code",
     "collapsed": false,
     "input": [
      "if day == \"Sunday\":\n",
      "    print \"Sleep in\"\n",
      "else:\n",
      "    print \"Go to work\""
     ],
     "language": "python",
     "metadata": {},
     "outputs": []
    },
    {
     "cell_type": "markdown",
     "metadata": {},
     "source": [
      "In Python, whenever you use boolean operators to compare elements, the result is of boolean type."
     ]
    },
    {
     "cell_type": "code",
     "collapsed": false,
     "input": [
      "day == \"Sunday\""
     ],
     "language": "python",
     "metadata": {},
     "outputs": []
    },
    {
     "cell_type": "markdown",
     "metadata": {},
     "source": [
      "You can compare any data types in Python:"
     ]
    },
    {
     "cell_type": "code",
     "collapsed": false,
     "input": [
      "1 == 2"
     ],
     "language": "python",
     "metadata": {},
     "outputs": []
    },
    {
     "cell_type": "code",
     "collapsed": false,
     "input": [
      "3 < 3.14159"
     ],
     "language": "python",
     "metadata": {},
     "outputs": []
    },
    {
     "cell_type": "code",
     "collapsed": false,
     "input": [
      "[1,2,3] == [1,2,3]"
     ],
     "language": "python",
     "metadata": {},
     "outputs": []
    },
    {
     "cell_type": "code",
     "collapsed": false,
     "input": [
      "[1,2,4] < [1,2,3]"
     ],
     "language": "python",
     "metadata": {},
     "outputs": []
    },
    {
     "cell_type": "markdown",
     "metadata": {},
     "source": [
      "Finally, note that you can also string multiple comparisons together, which can result in very intuitive tests:"
     ]
    },
    {
     "cell_type": "code",
     "collapsed": false,
     "input": [
      "hours = 5\n",
      "0 < hours < 24"
     ],
     "language": "python",
     "metadata": {},
     "outputs": []
    },
    {
     "cell_type": "markdown",
     "metadata": {},
     "source": [
      "If statements can have **elif** parts (\"else if\"), in addition to if/else parts. For example:"
     ]
    },
    {
     "cell_type": "code",
     "collapsed": false,
     "input": [
      "if day == \"Sunday\":\n",
      "    print \"Sleep in\"\n",
      "elif day == \"Saturday\":\n",
      "    print \"Do chores\"\n",
      "else:\n",
      "    print \"Go to work\""
     ],
     "language": "python",
     "metadata": {},
     "outputs": []
    },
    {
     "cell_type": "markdown",
     "metadata": {},
     "source": [
      "Of course we can combine if statements with for loops, to make a snippet that is almost interesting:"
     ]
    },
    {
     "cell_type": "code",
     "collapsed": false,
     "input": [
      "for day in days_of_the_week:\n",
      "    statement = \"Today is \" + day\n",
      "    print statement\n",
      "    if day == \"Sunday\":\n",
      "        print \"   Sleep in\"\n",
      "    elif day == \"Saturday\":\n",
      "        print \"   Do chores\"\n",
      "    else:\n",
      "        print \"   Go to work\""
     ],
     "language": "python",
     "metadata": {},
     "outputs": []
    },
    {
     "cell_type": "markdown",
     "metadata": {},
     "source": [
      "## Code Example: The Fibonacci Sequence\n",
      "The [Fibonacci sequence](http://en.wikipedia.org/wiki/Fibonacci_number) is a sequence in math that starts with 0 and 1, and then each successive entry is the sum of the previous two. Thus, the sequence goes 0,1,1,2,3,5,8,13,21,34,55,89,...\n",
      "\n",
      "A very common exercise in programming books is to compute the Fibonacci sequence up to some number **n**. First I'll show the code, then I'll discuss what it is doing."
     ]
    },
    {
     "cell_type": "code",
     "collapsed": false,
     "input": [
      "n = 10\n",
      "sequence = [0,1]\n",
      "for i in range(2,n): # This is going to be a problem if we ever set n <= 2!\n",
      "    sequence.append(sequence[i-1]+sequence[i-2])\n",
      "print sequence"
     ],
     "language": "python",
     "metadata": {},
     "outputs": []
    },
    {
     "cell_type": "markdown",
     "metadata": {},
     "source": [
      "Let's go through this line by line. First, we define the variable **n**, and set it to the integer 20. **n** is the length of the sequence we're going to form, and should probably have a better variable name. We then create a variable called **sequence**, and initialize it to the list with the integers 0 and 1 in it, the first two elements of the Fibonacci sequence. We have to create these elements \"by hand\", since the iterative part of the sequence requires two previous elements.\n",
      "\n",
      "We then have a for loop over the list of integers from 2 (the next element of the list) to **n** (the length of the sequence). After the colon, we see a hash tag \"#\", and then a **comment** that if we had set **n** to some number less than 2 we would have a problem. Comments in Python start with #, and are good ways to make notes to yourself or to a user of your code explaining why you did what you did. Better than the comment here would be to test to make sure the value of **n** is valid, and to complain if it isn't; we'll try this later.\n",
      "\n",
      "In the body of the loop, we append to the list an integer equal to the sum of the two previous elements of the list.\n",
      "\n",
      "After exiting the loop (ending the indentation) we then print out the whole list. That's it!"
     ]
    },
    {
     "cell_type": "markdown",
     "metadata": {},
     "source": [
      "## Functions\n",
      "We might want to use the Fibonacci snippet with different sequence lengths. We could cut an paste the code into another cell, changing the value of **n**, but it's easier and more useful to make a function out of the code. We do this with the **def** statement in Python:"
     ]
    },
    {
     "cell_type": "code",
     "collapsed": false,
     "input": [
      "def fibonacci(sequence_length):\n",
      "    \"Return the Fibonacci sequence of length *sequence_length*\"\n",
      "    sequence = [0,1]\n",
      "    if sequence_length < 1:\n",
      "        print \"Fibonacci sequence only defined for length 1 or greater\"\n",
      "        return\n",
      "    if 0 < sequence_length < 3:\n",
      "        return sequence[:sequence_length]\n",
      "    for i in range(2,sequence_length): \n",
      "        sequence.append(sequence[i-1]+sequence[i-2])\n",
      "    return sequence"
     ],
     "language": "python",
     "metadata": {},
     "outputs": []
    },
    {
     "cell_type": "markdown",
     "metadata": {},
     "source": [
      "We can now call **fibonacci()** for different sequence_lengths:"
     ]
    },
    {
     "cell_type": "code",
     "collapsed": false,
     "input": [
      "fibonacci(2)"
     ],
     "language": "python",
     "metadata": {},
     "outputs": []
    },
    {
     "cell_type": "code",
     "collapsed": false,
     "input": [
      "fibonacci(12)"
     ],
     "language": "python",
     "metadata": {},
     "outputs": []
    },
    {
     "cell_type": "markdown",
     "metadata": {},
     "source": [
      "## Plotting with Matplotlib\n",
      "We can generally understand trends in data by using a plotting program to chart it. Python has a wonderful plotting library called [Matplotlib](http://matplotlib.sf.net). The IPython notebook interface we are using for these notes has that functionality built in.\n",
      "\n",
      "As an example, we have looked at two different functions, the Fibonacci function, and the factorial function, both of which grow faster than polynomially. Which one grows the fastest? Let's plot them. First, let's generate the Fibonacci sequence of length 20:"
     ]
    },
    {
     "cell_type": "code",
     "collapsed": false,
     "input": [
      "fibs = fibonacci(10)"
     ],
     "language": "python",
     "metadata": {},
     "outputs": []
    },
    {
     "cell_type": "markdown",
     "metadata": {},
     "source": [
      "Next lets generate the factorials."
     ]
    },
    {
     "cell_type": "code",
     "collapsed": false,
     "input": [
      "from math import factorial\n",
      "\n",
      "facts = []\n",
      "for i in range(10):\n",
      "    facts.append(factorial(i))"
     ],
     "language": "python",
     "metadata": {},
     "outputs": []
    },
    {
     "cell_type": "markdown",
     "metadata": {},
     "source": [
      "Now we use the Matplotlib function **plot** to compare the two."
     ]
    },
    {
     "cell_type": "code",
     "collapsed": false,
     "input": [
      "figsize(8,6)\n",
      "plot(facts,label=\"factorial\")\n",
      "plot(fibs,label=\"Fibonacci\")\n",
      "xlabel(\"n\")\n",
      "legend()"
     ],
     "language": "python",
     "metadata": {},
     "outputs": []
    },
    {
     "cell_type": "markdown",
     "metadata": {},
     "source": [
      "The factorial function grows much faster. In fact, you can't even see the Fibonacci sequence. It's not entirely surprising: a function where we multiply by n each iteration is bound to grow faster than one where we add (roughly) n each iteration.\n",
      "\n",
      "Let's plot these on a semilog plot so we can see them both a little more clearly:"
     ]
    },
    {
     "cell_type": "code",
     "collapsed": false,
     "input": [
      "semilogy(facts,label=\"factorial\")\n",
      "semilogy(fibs,label=\"Fibonacci\")\n",
      "xlabel(\"n\")\n",
      "legend()"
     ],
     "language": "python",
     "metadata": {},
     "outputs": []
    },
    {
     "cell_type": "markdown",
     "metadata": {},
     "source": [
      "There are many more things you can do with Matplotlib. If you want an idea of the different things you can do, look at the Matplotlib [Gallery](http://matplotlib.org/gallery.html). Rob Johansson's IPython notebook [Introduction to Matplotlib](http://nbviewer.ipython.org/urls/raw.github.com/jrjohansson/scientific-python-lectures/master/Lecture-4-Matplotlib.ipynb) is also particularly good."
     ]
    },
    {
     "cell_type": "markdown",
     "metadata": {},
     "source": [
      "# II. Numpy and Scipy\n",
      "\n",
      "[Numpy](http://numpy.org) is the **fundamental package for scientific computing with Python**. It contains among other things:\n",
      "\n",
      "* a powerful N-dimensional array object\n",
      "* sophisticated (**broadcasting**) functions [what is *broadcasting*?]\n",
      "* tools for integrating C/C++ and Fortran code\n",
      "* useful linear algebra, Fourier transform, and random number capabilities\n",
      "\n",
      "[Scipy](http://scipy) contains additional routines for optimization, special functions, and so on. Both contain modules written in C and Fortran so that they're as fast as possible. Together, they give Python roughly the same capability that the [Matlab](http://www.mathworks.com/products/matlab/) program offers. (In fact, if you're an experienced Matlab user, there a [guide to Numpy for Matlab users](http://www.scipy.org/NumPy_for_Matlab_Users) just for you.)\n",
      "\n",
      "In IPython, the numpy package routines are imported when we call **%pylab inline**.\n",
      "\n",
      "## Making vectors and matrices\n",
      "Fundamental to both Numpy and Scipy is the ability to work with vectors and matrices. You can create vectors from lists using the **array** command:"
     ]
    },
    {
     "cell_type": "code",
     "collapsed": false,
     "input": [
      "array([1,2,3,4,5,6])"
     ],
     "language": "python",
     "metadata": {},
     "outputs": []
    },
    {
     "cell_type": "markdown",
     "metadata": {},
     "source": [
      "You can pass in a second argument to **array** that gives the numeric type. There are a number of types [listed here](http://docs.scipy.org/doc/numpy/user/basics.types.html) that your matrix can be. The most common ones are float64 (double precision floating point number), and int64."
     ]
    },
    {
     "cell_type": "code",
     "collapsed": false,
     "input": [
      "array([1,2,3,4,5,6], np.float64)"
     ],
     "language": "python",
     "metadata": {},
     "outputs": []
    },
    {
     "cell_type": "code",
     "collapsed": false,
     "input": [
      "array([1,2,3,4,5,6], np.int64)"
     ],
     "language": "python",
     "metadata": {},
     "outputs": []
    },
    {
     "cell_type": "markdown",
     "metadata": {},
     "source": [
      "To build matrices, you can either use the array command with lists of lists:"
     ]
    },
    {
     "cell_type": "code",
     "collapsed": false,
     "input": [
      "array([[0,1], [1,0]], np.float64)"
     ],
     "language": "python",
     "metadata": {},
     "outputs": []
    },
    {
     "cell_type": "markdown",
     "metadata": {},
     "source": [
      "You can create arrays with any number of dimensions using lists of lists of .... of lists:"
     ]
    },
    {
     "cell_type": "code",
     "collapsed": false,
     "input": [
      "array([[[0,1],[0,1]], [[1,0],[1,0]]], np.float64)"
     ],
     "language": "python",
     "metadata": {},
     "outputs": []
    },
    {
     "cell_type": "markdown",
     "metadata": {},
     "source": [
      "### Array creation routines"
     ]
    },
    {
     "cell_type": "markdown",
     "metadata": {},
     "source": [
      "You can also form empty (zero) matrices of arbitrary shape (including vectors, which Numpy treats as vectors with one row), using the **zeros** command:"
     ]
    },
    {
     "cell_type": "code",
     "collapsed": false,
     "input": [
      "zeros((3,3), np.float64)"
     ],
     "language": "python",
     "metadata": {},
     "outputs": []
    },
    {
     "cell_type": "markdown",
     "metadata": {},
     "source": [
      "The first argument is a tuple containing the **shape** of the matrix, and the second is the data type (**dtype**) argument, which follows the same conventions as in the array command. The default dtype is float32. Thus, you can make row vectors:"
     ]
    },
    {
     "cell_type": "code",
     "collapsed": false,
     "input": [
      "zeros(3)"
     ],
     "language": "python",
     "metadata": {},
     "outputs": []
    },
    {
     "cell_type": "code",
     "collapsed": false,
     "input": [
      "zeros((1, 3))"
     ],
     "language": "python",
     "metadata": {},
     "outputs": []
    },
    {
     "cell_type": "markdown",
     "metadata": {},
     "source": [
      "or column vectors:"
     ]
    },
    {
     "cell_type": "code",
     "collapsed": false,
     "input": [
      "zeros((3, 1))"
     ],
     "language": "python",
     "metadata": {},
     "outputs": []
    },
    {
     "cell_type": "markdown",
     "metadata": {},
     "source": [
      "The **identity** function creates an identity matrix:"
     ]
    },
    {
     "cell_type": "code",
     "collapsed": false,
     "input": [
      "identity(4)"
     ],
     "language": "python",
     "metadata": {},
     "outputs": []
    },
    {
     "cell_type": "markdown",
     "metadata": {},
     "source": [
      "And the **ones** funciton creates an array of ones:"
     ]
    },
    {
     "cell_type": "code",
     "collapsed": false,
     "input": [
      "ones((3, 3))"
     ],
     "language": "python",
     "metadata": {},
     "outputs": []
    },
    {
     "cell_type": "markdown",
     "metadata": {},
     "source": [
      "You can create arrays with any number of dimensions by adding dimensions to the **shape** argument:"
     ]
    },
    {
     "cell_type": "code",
     "collapsed": false,
     "input": [
      "ones((2, 2, 3))"
     ],
     "language": "python",
     "metadata": {},
     "outputs": []
    },
    {
     "cell_type": "markdown",
     "metadata": {},
     "source": [
      "Other array creation routines are:"
     ]
    },
    {
     "cell_type": "code",
     "collapsed": false,
     "input": [
      "empty((2, 2))"
     ],
     "language": "python",
     "metadata": {},
     "outputs": []
    },
    {
     "cell_type": "code",
     "collapsed": false,
     "input": [
      "eye(3, 4, 1)"
     ],
     "language": "python",
     "metadata": {},
     "outputs": []
    },
    {
     "cell_type": "code",
     "collapsed": false,
     "input": [
      "diag(arange(4))"
     ],
     "language": "python",
     "metadata": {},
     "outputs": []
    },
    {
     "cell_type": "code",
     "collapsed": false,
     "input": [
      "arange(4)"
     ],
     "language": "python",
     "metadata": {},
     "outputs": []
    },
    {
     "cell_type": "markdown",
     "metadata": {},
     "source": [
      "The **linspace** command makes a linear array of points from a starting to an ending value."
     ]
    },
    {
     "cell_type": "code",
     "collapsed": false,
     "input": [
      "linspace(0, 2, 5)"
     ],
     "language": "python",
     "metadata": {},
     "outputs": []
    },
    {
     "cell_type": "code",
     "collapsed": false,
     "input": [
      "logspace(0, 2, 5)"
     ],
     "language": "python",
     "metadata": {},
     "outputs": []
    },
    {
     "cell_type": "markdown",
     "metadata": {},
     "source": [
      "**linspace** and **logspace** are easy ways to make coordinates for plotting. Functions in the numpy library (all of which are imported into IPython notebook) can act on an entire vector (or even a matrix) of points at once. Thus,"
     ]
    },
    {
     "cell_type": "code",
     "collapsed": false,
     "input": [
      "x = linspace(0,2*pi)\n",
      "sin(x)"
     ],
     "language": "python",
     "metadata": {},
     "outputs": []
    },
    {
     "cell_type": "code",
     "collapsed": false,
     "input": [
      "plot(x,sin(x))"
     ],
     "language": "python",
     "metadata": {},
     "outputs": []
    },
    {
     "cell_type": "markdown",
     "metadata": {},
     "source": [
      "### reshape, transpose"
     ]
    },
    {
     "cell_type": "code",
     "collapsed": false,
     "input": [
      "a = arange(64)\n",
      "a"
     ],
     "language": "python",
     "metadata": {},
     "outputs": []
    },
    {
     "cell_type": "code",
     "collapsed": false,
     "input": [
      "a.reshape(8,8)"
     ],
     "language": "python",
     "metadata": {},
     "outputs": []
    },
    {
     "cell_type": "code",
     "collapsed": false,
     "input": [
      "a.T"
     ],
     "language": "python",
     "metadata": {},
     "outputs": []
    },
    {
     "cell_type": "code",
     "collapsed": false,
     "input": [
      "a.reshape(8, 8).flatten()"
     ],
     "language": "python",
     "metadata": {},
     "outputs": []
    },
    {
     "cell_type": "markdown",
     "metadata": {},
     "source": [
      "### Indexing/Slicing\n",
      "\n",
      "You can index and slice numpy arrays in the same way you index/slice lists."
     ]
    },
    {
     "cell_type": "code",
     "collapsed": false,
     "input": [
      "a3 = arange(30) \n",
      "a3"
     ],
     "language": "python",
     "metadata": {},
     "outputs": []
    },
    {
     "cell_type": "code",
     "collapsed": false,
     "input": [
      "print a3[0]\n",
      "print a3[::-1]\n",
      "print a3[2:5]"
     ],
     "language": "python",
     "metadata": {},
     "outputs": []
    },
    {
     "cell_type": "markdown",
     "metadata": {},
     "source": [
      "2d, 3d slicing"
     ]
    },
    {
     "cell_type": "code",
     "collapsed": false,
     "input": [
      "a = arange(64).reshape(8,8)\n",
      "a"
     ],
     "language": "python",
     "metadata": {},
     "outputs": []
    },
    {
     "cell_type": "code",
     "collapsed": false,
     "input": [
      "a[0,:]"
     ],
     "language": "python",
     "metadata": {},
     "outputs": []
    },
    {
     "cell_type": "code",
     "collapsed": false,
     "input": [
      "a[:,0]"
     ],
     "language": "python",
     "metadata": {},
     "outputs": []
    },
    {
     "cell_type": "code",
     "collapsed": false,
     "input": [
      "a[:2,:2]"
     ],
     "language": "python",
     "metadata": {},
     "outputs": []
    },
    {
     "cell_type": "code",
     "collapsed": false,
     "input": [
      "a[::2,::2]"
     ],
     "language": "python",
     "metadata": {},
     "outputs": []
    },
    {
     "cell_type": "code",
     "collapsed": false,
     "input": [
      "b = arange(27).reshape(3,3,3)\n",
      "b"
     ],
     "language": "python",
     "metadata": {},
     "outputs": []
    },
    {
     "cell_type": "code",
     "collapsed": false,
     "input": [
      "b[0,0,0]"
     ],
     "language": "python",
     "metadata": {},
     "outputs": []
    },
    {
     "cell_type": "code",
     "collapsed": false,
     "input": [
      "b[0,:,:]"
     ],
     "language": "python",
     "metadata": {},
     "outputs": []
    },
    {
     "cell_type": "code",
     "collapsed": false,
     "input": [
      "b[:,0,:]"
     ],
     "language": "python",
     "metadata": {},
     "outputs": []
    },
    {
     "cell_type": "code",
     "collapsed": false,
     "input": [
      "b[:,:,0]"
     ],
     "language": "python",
     "metadata": {},
     "outputs": []
    },
    {
     "cell_type": "markdown",
     "metadata": {},
     "source": [
      "### NumPy Functions\n",
      "\n",
      "http://docs.scipy.org/doc/numpy/reference/routines.math.html"
     ]
    },
    {
     "cell_type": "code",
     "collapsed": false,
     "input": [
      "import random\n",
      "a = array([random.randint(0, 10) for i in range(10)])\n",
      "\n",
      "print a\n",
      "print a.min()\n",
      "print a.max()\n",
      "print a.mean()\n",
      "print a.std() # standard deviation\n",
      "print a.sum()"
     ],
     "language": "python",
     "metadata": {},
     "outputs": []
    },
    {
     "cell_type": "code",
     "collapsed": false,
     "input": [
      "b = arange(16).reshape(4, 4)\n",
      "print b\n",
      "print b.T\n",
      "print b.trace()\n",
      "print b.min()\n",
      "print b.min(axis=0)\n",
      "print b.min(axis=1)\n",
      "print b.ravel()"
     ],
     "language": "python",
     "metadata": {},
     "outputs": []
    },
    {
     "cell_type": "code",
     "collapsed": false,
     "input": [
      "a = arange(0,3)\n",
      "b = arange(1,4)\n",
      "print a, b\n",
      "print a.dot(b)"
     ],
     "language": "python",
     "metadata": {},
     "outputs": []
    },
    {
     "cell_type": "markdown",
     "metadata": {},
     "source": [
      "## Matrix Solvers\n",
      "You can solve systems of linear equations using the **solve** command:"
     ]
    },
    {
     "cell_type": "code",
     "collapsed": false,
     "input": [
      "A = array([[1,1,1],[0,2,5],[2,5,-1]])\n",
      "b = array([6,-4,27])\n",
      "solve(A, b)"
     ],
     "language": "python",
     "metadata": {},
     "outputs": []
    },
    {
     "cell_type": "markdown",
     "metadata": {},
     "source": [
      "There are a number of routines to compute eigenvalues and eigenvectors\n",
      "\n",
      "* **eigvals** returns the eigenvalues of a matrix\n",
      "* **eigvalsh** returns the eigenvalues of a Hermitian matrix\n",
      "* **eig** returns the eigenvalues and eigenvectors of a matrix\n",
      "* **eigh** returns the eigenvalues and eigenvectors of a Hermitian matrix."
     ]
    },
    {
     "cell_type": "code",
     "collapsed": false,
     "input": [
      "A = array([[13,-4],[-4,7]])\n",
      "eigvalsh(A)"
     ],
     "language": "python",
     "metadata": {},
     "outputs": []
    },
    {
     "cell_type": "code",
     "collapsed": false,
     "input": [
      "eigh(A)"
     ],
     "language": "python",
     "metadata": {},
     "outputs": []
    },
    {
     "cell_type": "markdown",
     "metadata": {},
     "source": [
      "## Monte Carlo, random numbers, and computing $\\pi$\n",
      "\n",
      "Many methods in scientific computing rely on Monte Carlo integration, where a sequence of (pseudo) random numbers are used to approximate the integral of a function. For this purpose, \n",
      "we use NumPy's built-in pseudorandom number generator routines in the sub-module \n",
      "random. The numbers are pseudo random in the sense that they are generated \n",
      "deterministically from a seed number, but are distributed in what has statistical similarities to \n",
      "random fashion. NumPy uses a particular algorithm called the [Mersenne Twister](http://www.math.sci.hiroshima-u.ac.jp/~m-mat/MT/emt.html) algorithm to generate \n",
      "pseudorandom numbers. \n",
      "\n",
      "The random number seed can be set:"
     ]
    },
    {
     "cell_type": "code",
     "collapsed": false,
     "input": [
      "np.random.seed(42)"
     ],
     "language": "python",
     "metadata": {},
     "outputs": []
    },
    {
     "cell_type": "markdown",
     "metadata": {},
     "source": [
      "The seed is an integer value. Any program that starts with the same seed will generate exactly \n",
      "the same sequence of random numbers each time it is run.\n",
      "\n",
      "An array of random numbers in the half-open interval [0.0, 1.0) can be generated:"
     ]
    },
    {
     "cell_type": "code",
     "collapsed": false,
     "input": [
      "np.random.rand(5)"
     ],
     "language": "python",
     "metadata": {},
     "outputs": []
    },
    {
     "cell_type": "markdown",
     "metadata": {},
     "source": [
      "The first example of Monte Carlo simulation is a program to compute $\\pi$ by taking random numbers as x and y coordinates, and counting how many of them were in the unit circle. For example:"
     ]
    },
    {
     "cell_type": "code",
     "collapsed": false,
     "input": [
      "npts = 5000\n",
      "xs = 2*rand(npts)-1\n",
      "ys = 2*rand(npts)-1\n",
      "r = xs**2+ys**2\n",
      "ninside = (r<1).sum()\n",
      "\n",
      "print (r<1).sum() / float(len(r)) * 4"
     ],
     "language": "python",
     "metadata": {},
     "outputs": []
    },
    {
     "cell_type": "markdown",
     "metadata": {},
     "source": [
      "The idea behind the program is that the ratio of the area of the unit circle to the square that inscribes it is $\\pi/4$, so by counting the fraction of the random points in the square that are inside the circle, we get increasingly good estimates to $\\pi$."
     ]
    },
    {
     "cell_type": "code",
     "collapsed": false,
     "input": [
      "figsize(6,6) # make the figure square\n",
      "title(\"Approximation to pi = %f\" % (4*ninside/float(npts)))\n",
      "plot(xs[r<1],ys[r<1],'b.')\n",
      "plot(xs[r>1],ys[r>1],'r.')"
     ],
     "language": "python",
     "metadata": {},
     "outputs": []
    },
    {
     "cell_type": "markdown",
     "metadata": {},
     "source": [
      "As methods of computing $\\pi$ go, this is among the worst. A much better method is to use Leibniz's expansion of arctan(1):\n",
      "\n",
      "$$\\frac{\\pi}{4} = \\sum_k \\frac{(-1)^k}{2*k+1}$$"
     ]
    },
    {
     "cell_type": "code",
     "collapsed": false,
     "input": [
      "k = arange(100)\n",
      "print (pow(-1, k) / (2 * k + 1.0)).sum() * 4"
     ],
     "language": "python",
     "metadata": {},
     "outputs": []
    },
    {
     "cell_type": "markdown",
     "metadata": {},
     "source": [
      "To generate random integers in the range [min, max) use ``randint``:"
     ]
    },
    {
     "cell_type": "code",
     "collapsed": false,
     "input": [
      "np.random.randint(1, 7, 5)"
     ],
     "language": "python",
     "metadata": {},
     "outputs": []
    },
    {
     "cell_type": "markdown",
     "metadata": {},
     "source": [
      "In each of these examples, we drew random numbers form a uniform distribution. NumPy also \n",
      "includes generators for many other distributions, including:\n",
      "\n",
      "    - beta\n",
      "    - binomial\n",
      "    - chi-square\n",
      "    - Dirichlet\n",
      "    - exponential\n",
      "    - F\n",
      "    - Gamma\n",
      "    - geometric\n",
      "    - Gumbel\n",
      "    - hypergeometric\n",
      "    - Laplace\n",
      "    - logistic\n",
      "    - log-normal\n",
      "    - logarithmic\n",
      "    - multinomial\n",
      "    - multivariate\n",
      "    - negative binomial\n",
      "    - noncentral\n",
      "    - chi-square\n",
      "    - noncentral F\n",
      "    - normal\n",
      "    - Pareto\n",
      "    - Poisson\n",
      "    - power\n",
      "    - Rayleigh\n",
      "    - Cauchy\n",
      "    - student's t\n",
      "    - triangular\n",
      "    - von Mises\n",
      "    - Wald\n",
      "    - Weibull and\n",
      "    - Zipf"
     ]
    },
    {
     "cell_type": "markdown",
     "metadata": {},
     "source": [
      "To draw from the discrete Poisson distribution with $\\lambda$ = 6.0,"
     ]
    },
    {
     "cell_type": "code",
     "collapsed": false,
     "input": [
      "np.random.poisson(6.0, 100)"
     ],
     "language": "python",
     "metadata": {},
     "outputs": []
    },
    {
     "cell_type": "markdown",
     "metadata": {},
     "source": [
      "The ``matplotlib`` package has a function to plot the histogram of a list of values:"
     ]
    },
    {
     "cell_type": "code",
     "collapsed": false,
     "input": [
      "data = np.random.normal(size=1000)\n",
      "h = hist(data, bins=50)"
     ],
     "language": "python",
     "metadata": {},
     "outputs": []
    },
    {
     "cell_type": "code",
     "collapsed": false,
     "input": [
      "data = np.random.exponential(size=1000)\n",
      "h = hist(data, bins=50)"
     ],
     "language": "python",
     "metadata": {},
     "outputs": []
    },
    {
     "cell_type": "markdown",
     "metadata": {},
     "source": [
      "## Numerical Integration\n",
      "Integration can be hard, and sometimes it's easier to work out a definite integral using an approximation. For example, suppose we wanted to figure out the integral:\n",
      "\n",
      "$$\\int_0^\\infty\\exp(-x)dx=1$$"
     ]
    },
    {
     "cell_type": "code",
     "collapsed": false,
     "input": [
      "from numpy import sqrt\n",
      "def f(x): return exp(-x)\n",
      "x = linspace(0,10)\n",
      "plot(x,exp(-x))"
     ],
     "language": "python",
     "metadata": {},
     "outputs": []
    },
    {
     "cell_type": "markdown",
     "metadata": {},
     "source": [
      "Scipy has a numerical integration routine **quad** (since sometimes numerical integration is called *quadrature*), that we can use for this:"
     ]
    },
    {
     "cell_type": "code",
     "collapsed": false,
     "input": [
      "from scipy.integrate import quad\n",
      "quad(f,0,inf)"
     ],
     "language": "python",
     "metadata": {},
     "outputs": []
    },
    {
     "cell_type": "markdown",
     "metadata": {},
     "source": [
      "## Ordinary Differential Equations\n",
      "\n",
      "The function `odeint`, which is found in the `integrate` submodule of the `scipy` package, integrates ordinary differential equations of the form\n",
      "$$\n",
      "\\newcommand{\\yy}{\\mathbf{y}}\n",
      "\\newcommand{\\ff}{\\mathbf{f}}\n",
      "\\frac{\\mathrm{d} \\yy}{\\mathrm{d}t} = \\ff(\\yy, t),\n",
      "$$where $\\yy$ is a vector in $\\mathbb{R}^n$, or\n",
      "$$\n",
      "\\dot{\\yy} =  \\ff(\\yy, t).\n",
      "$$\n",
      "That is, it provides a numerical solution of the *initial value problem* given by this differential equation, together with an initial condition\n",
      "$$\n",
      "\\yy(t = t_0) = \\yy_0,\n",
      "$$\n",
      "returning the solution curve (or trajectory) $\\yy(t)$ as a function of time $t$, within a certain (finite!) range of values of $t$.\n",
      "\n",
      "Writing $\\yy = (y_1, \\ldots, y_n)$, we have a system of the form\n",
      "\\begin{align}\n",
      "\\dot{y_1} &= f_1(y_1, \\ldots, y_n, t) \\\\\n",
      "\\dot{y_2} &= f_2(y_1, \\ldots, y_n, t) \\\\\n",
      "&\\ldots \\\\\n",
      "\\dot{y_n} &= f_n(y_1, \\ldots, y_n, t)\n",
      "\\end{align}\n",
      "\n",
      "Note that in fact, *any* ordinary (system of) ordinary differential equation(s) can be written in this form by defining new variables to represent higher-order derivatives,  \n",
      "and incorporating them into the vector $\\yy$ of variables.\n",
      "\n",
      "To use `odeint`, we must define at least the Python function `f` which implements the mathematical function $\\ff$. It must take a vector `y` and a time `t`,\n",
      "and return the new vector `f(y,t)`.\n",
      "\n",
      "For example, the SIR system can be expressed by the following set of ordinary differential equations:\n",
      "\n",
      "$$\n",
      "\\begin{align}\n",
      "\\frac{dS}{dt} &= - \\beta I S, \\\\\n",
      "\\frac{dI}{dt} &= \\beta I S - \\nu I, \\\\\n",
      "\\frac{dR}{dt} &= \\nu I \\\\\n",
      "\\end{align} \n",
      "$$"
     ]
    },
    {
     "cell_type": "code",
     "collapsed": false,
     "input": [
      "def dif_eq(V, t, b, k):\n",
      "    \"\"\"\n",
      "    Compute the derivatives for the differential equations\n",
      "    V = current values of [Susceptible, Infected, Recovered]\n",
      "    \"\"\"\n",
      "    S = -b*V[0]*V[1]\n",
      "    I = b*V[0]*V[1] - k*V[1]\n",
      "    R = k*V[1]\n",
      "    return S, I, R\n",
      "\n",
      "P = 1e6 # a million\n",
      "I0 = 10/P # 10 people are infected\n",
      "S0 = 1 - I0 # Susceptible population\n",
      "R0 = 0 # Initial Recovered\n",
      "k = 0.2 # Infection lasts 5 days\n",
      "b = .4 # Infection ratio"
     ],
     "language": "python",
     "metadata": {},
     "outputs": []
    },
    {
     "cell_type": "code",
     "collapsed": false,
     "input": [
      "from scipy import integrate\n",
      "t_array = np.arange(0, 100, 1)\n",
      "RES = integrate.odeint(dif_eq, (S0,I0,R0), t_array, args=(b,k))"
     ],
     "language": "python",
     "metadata": {},
     "outputs": []
    },
    {
     "cell_type": "code",
     "collapsed": false,
     "input": [
      "plt.subplot(2,1,1)\n",
      "plt.plot(t_array, RES[:,0], '-', label='Susceptible')\n",
      "plt.plot(t_array, RES[:,2], '-', label='Recovered')\n",
      "plt.xlabel('Days')\n",
      "plt.ylabel('Susceptible/Recovered')\n",
      "plt.legend()\n",
      "plt.subplot(2,1,2)\n",
      "plt.plot(t_array, RES[:,1], '-', label='Infected')\n",
      "plt.xlabel('Days')\n",
      "plt.ylabel('Infected')\n",
      "plt.legend()"
     ],
     "language": "python",
     "metadata": {},
     "outputs": []
    },
    {
     "cell_type": "markdown",
     "metadata": {},
     "source": [
      "Vaccination results in reduction of the susceptible population. These people directly move into the recovered category without being infected. You can modify the dif_eq method as follows:"
     ]
    },
    {
     "cell_type": "code",
     "collapsed": false,
     "input": [
      "def dif_eq_vac(V, t, b, k, vac):\n",
      "    S = -b*V[0]*V[1] - vac\n",
      "    I = b*V[0]*V[1] - k*V[1]\n",
      "    R = k*V[1] + vac\n",
      "    return S, I, R"
     ],
     "language": "python",
     "metadata": {},
     "outputs": []
    },
    {
     "cell_type": "markdown",
     "metadata": {},
     "source": [
      "We can now see what happens if 1000 or 5000 people are vaccinated each day"
     ]
    },
    {
     "cell_type": "code",
     "collapsed": false,
     "input": [
      "t_array = np.arange(0, 200, 1)\n",
      "RES1 = integrate.odeint(dif_eq, (S0,I0,R0), t_array, args=(b,k))\n",
      "RES2 = integrate.odeint(dif_eq_vac, (S0,I0,R0), t_array, args=(b,k,1000/P))\n",
      "RES3 = integrate.odeint(dif_eq_vac, (S0,I0,R0), t_array, args=(b,k,5000/P))"
     ],
     "language": "python",
     "metadata": {},
     "outputs": []
    },
    {
     "cell_type": "markdown",
     "metadata": {},
     "source": [
      "Suppose a fraction q of the infected are quarantined. Hence, only (1-q) fraction will be a part of the infected group. The remaining will be treated as recovered/removed. The code for the differential equations becomes"
     ]
    },
    {
     "cell_type": "code",
     "collapsed": false,
     "input": [
      "def dif_eq_quarantine(V, t, b, k, q):\n",
      "    S = -b*V[0]*V[1]\n",
      "    I = b*(1-q)*V[0]*V[1] - k*V[1]\n",
      "    R = k*V[1] + b*q*V[0]*V[1]\n",
      "    return S, I, R"
     ],
     "language": "python",
     "metadata": {},
     "outputs": []
    },
    {
     "cell_type": "code",
     "collapsed": false,
     "input": [
      "RES4 = integrate.odeint(dif_eq_quarantine, (S0,I0,R0), t_array, args=(b, k, .333))"
     ],
     "language": "python",
     "metadata": {},
     "outputs": []
    },
    {
     "cell_type": "code",
     "collapsed": false,
     "input": [
      "plt.plot(t_array, RES1[:,1], '-', label='None')\n",
      "plt.plot(t_array, RES2[:,1], '-', label='1000 per day')\n",
      "plt.plot(t_array, RES3[:,1], '-', label='5000 per day')\n",
      "plt.plot(t_array, RES4[:,1], '-', label='1/3 Quarantined')\n",
      "plt.xlabel('Days')\n",
      "plt.ylabel('Infected')\n",
      "plt.legend()"
     ],
     "language": "python",
     "metadata": {},
     "outputs": []
    },
    {
     "cell_type": "markdown",
     "metadata": {},
     "source": [
      "An alternative function for solving equation systems is the function `ode`.\n",
      "\n",
      "For example, we can model a system of three ordinary differential equations known as the Lorenz equations:\n",
      "\n",
      "$$\n",
      "\\begin{align}\n",
      "\\frac{\\mathrm{d}x}{\\mathrm{d}t} &= \\sigma (y - x), \\\\\n",
      "\\frac{\\mathrm{d}y}{\\mathrm{d}t} &= x (\\rho - z) - y, \\\\\n",
      "\\frac{\\mathrm{d}z}{\\mathrm{d}t} &= x y - \\beta z.\n",
      "\\end{align} \n",
      "$$"
     ]
    },
    {
     "cell_type": "code",
     "collapsed": false,
     "input": [
      "sigma = 10.0\n",
      "rho = 28.0\n",
      "beta = 10.0/3\n",
      "\n",
      "def lorenz_sys(t, q):\n",
      "    x = q[0]\n",
      "    y = q[1]\n",
      "    z = q[2]\n",
      "    return [sigma * (y - x),\n",
      "            x * (rho - z) - y,\n",
      "            x*y - beta*z]"
     ],
     "language": "python",
     "metadata": {},
     "outputs": []
    },
    {
     "cell_type": "code",
     "collapsed": false,
     "input": [
      "from scipy.integrate import ode\n",
      "\n",
      "solver = ode(lorenz_sys)\n",
      "\n",
      "ic = [1.0, 2.0, 1.0]\n",
      "t0 = 0.0\n",
      "t1 = 100.0\n",
      "dt = 0.01\n",
      "\n",
      "sol = []\n",
      "solver.set_initial_value(ic, t0)\n",
      "\n",
      "while solver.successful() and solver.t < t1:\n",
      "    solver.integrate(solver.t + dt)\n",
      "    sol.append(solver.y)"
     ],
     "language": "python",
     "metadata": {},
     "outputs": []
    },
    {
     "cell_type": "code",
     "collapsed": false,
     "input": [
      "from mpl_toolkits.mplot3d import Axes3D\n",
      "\n",
      "sol = array(sol)\n",
      "\n",
      "fig = figure(figsize=(10, 10))\n",
      "ax = Axes3D(fig)\n",
      "ax.plot(sol[:,0], sol[:,1], sol[:,2])\n",
      "xlabel('x')\n",
      "ylabel('y')"
     ],
     "language": "python",
     "metadata": {},
     "outputs": []
    },
    {
     "cell_type": "code",
     "collapsed": false,
     "input": [],
     "language": "python",
     "metadata": {},
     "outputs": []
    }
   ],
   "metadata": {}
  }
 ]
}