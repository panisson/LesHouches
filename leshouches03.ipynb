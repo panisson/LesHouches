{
 "metadata": {
  "kernelspec": {
   "codemirror_mode": {
    "name": "ipython",
    "version": 2
   },
   "display_name": "IPython (Python 2)",
   "language": "python",
   "name": "python2"
  },
  "name": "",
  "signature": "sha256:73432f1aa22c3fe29c243fafaadd0cb8ae30df8690161390c0d070584b49e5ea"
 },
 "nbformat": 3,
 "nbformat_minor": 0,
 "worksheets": [
  {
   "cells": [
    {
     "cell_type": "markdown",
     "metadata": {},
     "source": [
      "###Complex Networks Thematic School, Les Houches, April 7-18, 2014\n",
      "\n",
      "---\n",
      "\n",
      "# Introduction to Python Tools - Network Analysis\n",
      "\n",
      "##Dr. Andr\u00e9 Panisson\n",
      "\n",
      "---"
     ]
    },
    {
     "cell_type": "markdown",
     "metadata": {},
     "source": [
      "Tools used in this demo:\n",
      "\n",
      "- IPython notebook (http://ipython.org/notebook.html)\n",
      "- Numpy/Scipy (scientific Python)\n",
      "- Matplotlib\n",
      "- NetworkX\n",
      "- IGraph"
     ]
    },
    {
     "cell_type": "markdown",
     "metadata": {},
     "source": [
      "# NetworkX\n",
      "http://networkx.github.io/"
     ]
    },
    {
     "cell_type": "code",
     "collapsed": false,
     "input": [
      "%pylab inline"
     ],
     "language": "python",
     "metadata": {},
     "outputs": []
    },
    {
     "cell_type": "code",
     "collapsed": false,
     "input": [
      "import networkx as nx"
     ],
     "language": "python",
     "metadata": {},
     "outputs": []
    },
    {
     "cell_type": "markdown",
     "metadata": {},
     "source": [
      "Let's start by creating an undirected graph with three nodes and three edges."
     ]
    },
    {
     "cell_type": "code",
     "collapsed": false,
     "input": [
      "g = nx.Graph()\n",
      "\n",
      "g.add_edge(1, 2, weight=0.9)\n",
      "g.add_edge(2, 3, weight=0.5)\n",
      "g.add_edge(3, 1, weight=0.1)\n",
      "\n",
      "print g.nodes()\n",
      "print g.edges()"
     ],
     "language": "python",
     "metadata": {},
     "outputs": []
    },
    {
     "cell_type": "markdown",
     "metadata": {},
     "source": [
      "To Draw the graph, use nx.draw(g)."
     ]
    },
    {
     "cell_type": "code",
     "collapsed": false,
     "input": [
      "figure(figsize(5, 5))\n",
      "nx.draw(g)"
     ],
     "language": "python",
     "metadata": {},
     "outputs": []
    },
    {
     "cell_type": "markdown",
     "metadata": {},
     "source": [
      "Let's try with a more complex graph, the Zachary\u2019s Karate club graph[1].\n",
      "\n",
      "[1] Zachary W. An information flow model for conflict and fission in small groups. Journal of Anthropological Research, 33, 452-473, (1977)."
     ]
    },
    {
     "cell_type": "code",
     "collapsed": false,
     "input": [
      "g = nx.karate_club_graph()\n",
      "nx.draw(g)"
     ],
     "language": "python",
     "metadata": {},
     "outputs": []
    },
    {
     "cell_type": "markdown",
     "metadata": {},
     "source": [
      "The default layout is spring_layout, a simple force-directed layout ( http://en.wikipedia.org/wiki/Force-directed_graph_drawing ).\n",
      "\n",
      "Other graph layouts are available, like the circular layout."
     ]
    },
    {
     "cell_type": "code",
     "collapsed": false,
     "input": [
      "figure(figsize(5, 5))\n",
      "nx.draw(g, pos=nx.circular_layout(g), node_color='g', edge_color='b')"
     ],
     "language": "python",
     "metadata": {},
     "outputs": []
    },
    {
     "cell_type": "markdown",
     "metadata": {},
     "source": [
      "# Generative models for network analysis"
     ]
    },
    {
     "cell_type": "markdown",
     "metadata": {},
     "source": [
      "## Erdos-Renyi model\n",
      "\n",
      "This model takes two parameters: the number of nodes and the probability of having a link between a pair of nodes."
     ]
    },
    {
     "cell_type": "code",
     "collapsed": false,
     "input": [
      "ergraph = nx.erdos_renyi_graph(300, 0.05)\n",
      "\n",
      "figure(figsize(15, 15))\n",
      "nx.draw(ergraph, pos=nx.fruchterman_reingold_layout(ergraph))"
     ],
     "language": "python",
     "metadata": {},
     "outputs": []
    },
    {
     "cell_type": "markdown",
     "metadata": {},
     "source": [
      "Degree distribution"
     ]
    },
    {
     "cell_type": "code",
     "collapsed": false,
     "input": [
      "nx.degree_histogram(ergraph)"
     ],
     "language": "python",
     "metadata": {},
     "outputs": []
    },
    {
     "cell_type": "code",
     "collapsed": false,
     "input": [
      "figure(figsize=(8,6))\n",
      "# uses numpy and matplotlib\n",
      "plot(nx.degree_histogram(ergraph), 'b.', markersize=12)"
     ],
     "language": "python",
     "metadata": {},
     "outputs": []
    },
    {
     "cell_type": "markdown",
     "metadata": {},
     "source": [
      "Average Clustering Coefficient $c_u = \\frac{2 T(u)}{deg(u)(deg(u)-1)}$"
     ]
    },
    {
     "cell_type": "code",
     "collapsed": false,
     "input": [
      "np.average(nx.clustering(ergraph).values())"
     ],
     "language": "python",
     "metadata": {},
     "outputs": []
    },
    {
     "cell_type": "markdown",
     "metadata": {},
     "source": [
      "## Watts-Strogatz model\n",
      "\n",
      "This model takes three parameters. **n** is the number of nodes. \n",
      "**k** is the number of nearest neighbors each node is connected in ring topology.\n",
      "**p** is the probability of rewiring each edge."
     ]
    },
    {
     "cell_type": "code",
     "collapsed": false,
     "input": [
      "wsgraph = nx.watts_strogatz_graph(300, 10, 0.1)\n",
      "\n",
      "figure(figsize(10, 10))\n",
      "nx.draw(wsgraph, pos=nx.circular_layout(wsgraph))"
     ],
     "language": "python",
     "metadata": {},
     "outputs": []
    },
    {
     "cell_type": "markdown",
     "metadata": {},
     "source": [
      "nx.circular_layout returns a list of positions that can be used in the plotting library (matplotlib)"
     ]
    },
    {
     "cell_type": "code",
     "collapsed": false,
     "input": [
      "from matplotlib.lines import Line2D\n",
      "G = nx.watts_strogatz_graph(30, 10, 0.1)\n",
      "pos = nx.circular_layout(G)\n",
      "figure(figsize=(10,10))\n",
      "ax = plt.gca()\n",
      "for u,v in G.edges():\n",
      "    x = [pos[u][0],pos[v][0]]\n",
      "    y = [pos[u][1],pos[v][1]]\n",
      "    l = Line2D(x,y,linewidth=1,solid_capstyle='round')\n",
      "    ax.add_line(l)\n",
      "ax.autoscale()"
     ],
     "language": "python",
     "metadata": {},
     "outputs": []
    },
    {
     "cell_type": "markdown",
     "metadata": {},
     "source": [
      "Degree distribution"
     ]
    },
    {
     "cell_type": "code",
     "collapsed": false,
     "input": [
      "figure(figsize(5, 5))\n",
      "plot(nx.degree_histogram(wsgraph), 'bo')"
     ],
     "language": "python",
     "metadata": {},
     "outputs": []
    },
    {
     "cell_type": "markdown",
     "metadata": {},
     "source": [
      "Clustering Coefficient"
     ]
    },
    {
     "cell_type": "code",
     "collapsed": false,
     "input": [
      "print np.average(nx.clustering(wsgraph).values())"
     ],
     "language": "python",
     "metadata": {},
     "outputs": []
    },
    {
     "cell_type": "markdown",
     "metadata": {},
     "source": [
      "####Comparing with a real network: The Airlines network"
     ]
    },
    {
     "cell_type": "code",
     "collapsed": false,
     "input": [
      "figure(figsize(10, 10))\n",
      "airlines = nx.Graph(nx.read_graphml('data/airlines.graphml'))\n",
      "nx.draw(airlines, pos=nx.fruchterman_reingold_layout(airlines))"
     ],
     "language": "python",
     "metadata": {},
     "outputs": []
    },
    {
     "cell_type": "code",
     "collapsed": false,
     "input": [
      "figure(figsize(5, 5))\n",
      "plt.loglog()\n",
      "plot(nx.degree_histogram(airlines), 'bo')"
     ],
     "language": "python",
     "metadata": {},
     "outputs": []
    },
    {
     "cell_type": "markdown",
     "metadata": {},
     "source": [
      "** Degree density distribution: log-log plot wiht log binning **"
     ]
    },
    {
     "cell_type": "code",
     "collapsed": false,
     "input": [
      "x, bins = np.histogram(nx.degree(airlines).values(),\n",
      "                       bins=np.logspace(0, 8, num=9, base=2.),\n",
      "                       density=True)\n",
      "plot(bins[1:], x, 'bo')\n",
      "plt.loglog()"
     ],
     "language": "python",
     "metadata": {},
     "outputs": []
    },
    {
     "cell_type": "code",
     "collapsed": false,
     "input": [
      "print np.average(nx.clustering(airlines).values())"
     ],
     "language": "python",
     "metadata": {},
     "outputs": []
    },
    {
     "cell_type": "markdown",
     "metadata": {},
     "source": [
      "## Barabasi-Albert model\n",
      "\n",
      "This model takes two parameters, the number of nodes and the number of edges to attach from a new node to existing nodes."
     ]
    },
    {
     "cell_type": "code",
     "collapsed": false,
     "input": [
      "bagraph = nx.barabasi_albert_graph(200, 2)\n",
      "\n",
      "figure(figsize(15, 15))\n",
      "nx.draw(bagraph, pos=nx.fruchterman_reingold_layout(bagraph))"
     ],
     "language": "python",
     "metadata": {},
     "outputs": []
    },
    {
     "cell_type": "code",
     "collapsed": false,
     "input": [
      "figure(figsize(5, 5))\n",
      "plot(nx.degree_histogram(bagraph), 'bo')\n",
      "plt.loglog()"
     ],
     "language": "python",
     "metadata": {},
     "outputs": []
    },
    {
     "cell_type": "code",
     "collapsed": false,
     "input": [
      "np.average(nx.clustering(bagraph).values())"
     ],
     "language": "python",
     "metadata": {},
     "outputs": []
    },
    {
     "cell_type": "markdown",
     "metadata": {},
     "source": [
      "# Community detection\n",
      "\n",
      "school_graph.gexf is a graph in the GEXF file format ( http://gexf.net/).\n",
      "It represents a weighted network of face-to-face proximity between students and teachers. - See more at: http://www.sociopatterns.org/datasets/primary-school-cumulative-networks/"
     ]
    },
    {
     "cell_type": "code",
     "collapsed": false,
     "input": [
      "import networkx as nx\n",
      "\n",
      "school = nx.read_gexf('data/school_graph.gexf')\n",
      "figure(figsize(15, 15))\n",
      "nx.draw(school, pos=nx.fruchterman_reingold_layout(school))"
     ],
     "language": "python",
     "metadata": {},
     "outputs": []
    },
    {
     "cell_type": "markdown",
     "metadata": {},
     "source": [
      "The **community** package is a script written by Thomas Aynaud (http://perso.crans.org/aynaud/) that implements the Louvain algorithm. This algorithm is a greedy optimization method that attempts to optimize the **modularity** of a partition of the network. The optimization is performed in two steps. First, the method looks for \"small\" communities by optimizing modularity locally. Second, it aggregates nodes belonging to the same community and builds a new network whose nodes are the communities. These steps are repeated iteratively until a maximum of modularity is attained and a hierarchy of communities is produced."
     ]
    },
    {
     "cell_type": "code",
     "collapsed": false,
     "input": [
      "import community"
     ],
     "language": "python",
     "metadata": {},
     "outputs": []
    },
    {
     "cell_type": "code",
     "collapsed": false,
     "input": [
      "c = community.best_partition(school)"
     ],
     "language": "python",
     "metadata": {},
     "outputs": []
    },
    {
     "cell_type": "code",
     "collapsed": false,
     "input": [
      "import community\n",
      "c = community.best_partition(school)\n",
      "nx.draw(school,\n",
      "        pos=nx.fruchterman_reingold_layout(school), \n",
      "        cmap=plt.cm.hsv,\n",
      "        node_color=[c[node] for node in school.nodes()])"
     ],
     "language": "python",
     "metadata": {},
     "outputs": []
    },
    {
     "cell_type": "markdown",
     "metadata": {},
     "source": [
      "Other measures available:\n",
      "\n",
      "- Diameter\n",
      "- Radius\n",
      "- Average Shortest Path Length\n",
      "- Average Clustering Coefficient\n",
      "- Average Degree\n",
      "- Degree Distribution\n",
      "- Degree Centrality\n",
      "- Closeness Centrality\n",
      "- Node Betweenness Centrality\n",
      "- Edge Betweenness Centrality"
     ]
    },
    {
     "cell_type": "code",
     "collapsed": false,
     "input": [
      "nx.diameter(school)"
     ],
     "language": "python",
     "metadata": {},
     "outputs": []
    },
    {
     "cell_type": "code",
     "collapsed": false,
     "input": [
      "nx.radius(school)"
     ],
     "language": "python",
     "metadata": {},
     "outputs": []
    },
    {
     "cell_type": "code",
     "collapsed": false,
     "input": [
      "np.max(nx.eccentricity(school).values())"
     ],
     "language": "python",
     "metadata": {},
     "outputs": []
    },
    {
     "cell_type": "code",
     "collapsed": false,
     "input": [
      "nx.average_shortest_path_length(school)"
     ],
     "language": "python",
     "metadata": {},
     "outputs": []
    },
    {
     "cell_type": "code",
     "collapsed": false,
     "input": [
      "nx.average_clustering(school)"
     ],
     "language": "python",
     "metadata": {},
     "outputs": []
    },
    {
     "cell_type": "code",
     "collapsed": false,
     "input": [
      "np.average(nx.degree(school).values())"
     ],
     "language": "python",
     "metadata": {},
     "outputs": []
    },
    {
     "cell_type": "code",
     "collapsed": false,
     "input": [
      "np.average(nx.degree_centrality(school).values())"
     ],
     "language": "python",
     "metadata": {},
     "outputs": []
    },
    {
     "cell_type": "code",
     "collapsed": false,
     "input": [
      "np.average(nx.closeness_centrality(school).values())"
     ],
     "language": "python",
     "metadata": {},
     "outputs": []
    },
    {
     "cell_type": "code",
     "collapsed": false,
     "input": [
      "np.average(nx.betweenness_centrality(school).values())"
     ],
     "language": "python",
     "metadata": {},
     "outputs": []
    },
    {
     "cell_type": "code",
     "collapsed": false,
     "input": [
      "np.average(nx.edge_betweenness_centrality(school).values())"
     ],
     "language": "python",
     "metadata": {},
     "outputs": []
    },
    {
     "cell_type": "markdown",
     "metadata": {},
     "source": [
      "# Network Analysis with the igraph library\n",
      "\n",
      "http://igraph.sourceforge.net/\n",
      "\n",
      "### Installing igraph in Ubuntu Linux:\n",
      "\n",
      "Add the Launchpad repository of igraph to apt:\n",
      "\n",
      "    sudo add-apt-repository ppa:igraph/ppa\n",
      "\n",
      "Then update your package database and install the python-igraph package:\n",
      "\n",
      "    sudo apt-get update\n",
      "    sudo apt-get install python-igraph\n",
      "\n",
      "You can use the igraph module of Python now.\n",
      "\n",
      "First step: loading and showing a graph:"
     ]
    },
    {
     "cell_type": "code",
     "collapsed": false,
     "input": [
      "import igraph\n",
      "\n",
      "g = igraph.read('data/school.graphml', format='graphml')\n",
      "\n",
      "layout = g.layout(\"fruchterman_reingold\")\n",
      "igraph.plot(g, target='igraph.png', layout=layout)\n",
      "\n",
      "from IPython.display import Image\n",
      "Image(filename='igraph.png')"
     ],
     "language": "python",
     "metadata": {},
     "outputs": []
    },
    {
     "cell_type": "markdown",
     "metadata": {},
     "source": [
      "There are some community detection methods available in the igraph library.\n",
      "\n",
      "You can find a summary of these methods in this link:\n",
      "http://bommaritollc.com/2012/06/17/summary-community-detection-algorithms-igraph-0-6/\n",
      "\n",
      "Some of them, like the InfoMAP method, returns a clustering object:\n",
      "\n",
      "    c = g.community_infomap()\n",
      "    print c\n",
      "\n",
      "This will return a clustering with \"n\" elements and \"k\" clusters.\n",
      "\n",
      "Others, like the Walktrap method, returns a tree or a dendogram, and you have to call the *.as_clustering(k)* method where k is the number of clusters you want to extract:\n",
      "\n",
      "    t = g.community_walktrap()\n",
      "    c = t.as_clustering(10)\n",
      "    print c\n",
      "\n",
      "Attention if you want to try Optimal Modularity, it takes a lot of memory!"
     ]
    },
    {
     "cell_type": "code",
     "collapsed": false,
     "input": [
      "t = g.community_walktrap()\n",
      "t.as_clustering(10)"
     ],
     "language": "python",
     "metadata": {},
     "outputs": []
    },
    {
     "cell_type": "code",
     "collapsed": false,
     "input": [
      "t = g.community_walktrap()\n",
      "c = t.as_clustering(10)\n",
      "g.vs['color'] = [plt.cm.hsv(1.*i/len(c)) for i in c.membership]\n",
      "g.vs['size'] = 10\n",
      "\n",
      "layout = g.layout(\"fruchterman_reingold\")\n",
      "igraph.plot(g, target='igraph.png', layout=layout)\n",
      "\n",
      "from IPython.display import Image\n",
      "Image(filename='igraph.png')"
     ],
     "language": "python",
     "metadata": {},
     "outputs": []
    },
    {
     "cell_type": "markdown",
     "metadata": {},
     "source": [
      "# NetworkX and Numpy"
     ]
    },
    {
     "cell_type": "code",
     "collapsed": false,
     "input": [
      "n = 100\n",
      "adj_matrix = np.zeros((n, n))\n",
      "adj_matrix"
     ],
     "language": "python",
     "metadata": {},
     "outputs": []
    },
    {
     "cell_type": "code",
     "collapsed": false,
     "input": [
      "p = 0.1\n",
      "for i in range(n):\n",
      "    for j in range(i+1, n):\n",
      "        if np.random.rand() < p:\n",
      "            adj_matrix[i,j] = 1.\n",
      "adj_matrix"
     ],
     "language": "python",
     "metadata": {},
     "outputs": []
    },
    {
     "cell_type": "code",
     "collapsed": false,
     "input": [
      "figure(figsize=(10,10))\n",
      "pcolormesh(adj_matrix, cmap=cm.binary)"
     ],
     "language": "python",
     "metadata": {},
     "outputs": []
    },
    {
     "cell_type": "code",
     "collapsed": false,
     "input": [
      "figure(figsize=(10,10))\n",
      "pcolormesh(adj_matrix+adj_matrix.T, cmap=cm.binary)"
     ],
     "language": "python",
     "metadata": {},
     "outputs": []
    },
    {
     "cell_type": "code",
     "collapsed": false,
     "input": [
      "G = nx.from_numpy_matrix(adj_matrix)"
     ],
     "language": "python",
     "metadata": {},
     "outputs": []
    },
    {
     "cell_type": "code",
     "collapsed": false,
     "input": [
      "figure(figsize=(10,10))\n",
      "nx.draw(G)"
     ],
     "language": "python",
     "metadata": {},
     "outputs": []
    },
    {
     "cell_type": "code",
     "collapsed": false,
     "input": [
      "from igraph import Graph\n",
      "g = Graph.Adjacency(adj_matrix.tolist())\n",
      "layout = g.layout(\"fruchterman_reingold\")\n",
      "igraph.plot(g, target='igraph.png', layout=layout)\n",
      "\n",
      "from IPython.display import Image\n",
      "Image(filename='igraph.png')"
     ],
     "language": "python",
     "metadata": {},
     "outputs": []
    },
    {
     "cell_type": "markdown",
     "metadata": {},
     "source": [
      "### Sparse matrices"
     ]
    },
    {
     "cell_type": "code",
     "collapsed": false,
     "input": [
      "G = nx.barabasi_albert_graph(10000, 2)"
     ],
     "language": "python",
     "metadata": {},
     "outputs": []
    },
    {
     "cell_type": "code",
     "collapsed": false,
     "input": [
      "sparse_adj = nx.to_scipy_sparse_matrix(G)\n",
      "sparse_adj"
     ],
     "language": "python",
     "metadata": {},
     "outputs": []
    },
    {
     "cell_type": "code",
     "collapsed": false,
     "input": [
      "sparse_adj.nonzero()"
     ],
     "language": "python",
     "metadata": {},
     "outputs": []
    },
    {
     "cell_type": "code",
     "collapsed": false,
     "input": [],
     "language": "python",
     "metadata": {},
     "outputs": []
    }
   ],
   "metadata": {}
  }
 ]
}